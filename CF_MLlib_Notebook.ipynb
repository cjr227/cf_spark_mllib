{
 "cells": [
  {
   "cell_type": "markdown",
   "metadata": {},
   "source": [
    "# Import Modules"
   ]
  },
  {
   "cell_type": "code",
   "execution_count": 1,
   "metadata": {
    "collapsed": false
   },
   "outputs": [],
   "source": [
    "from pyspark.mllib.recommendation import ALS, MatrixFactorizationModel, Rating"
   ]
  },
  {
   "cell_type": "markdown",
   "metadata": {},
   "source": [
    "# User Defined Functions"
   ]
  },
  {
   "cell_type": "code",
   "execution_count": 45,
   "metadata": {
    "collapsed": true
   },
   "outputs": [],
   "source": [
    "def not_tab(x):\n",
    "    return x != '\\t'"
   ]
  },
  {
   "cell_type": "code",
   "execution_count": 46,
   "metadata": {
    "collapsed": true
   },
   "outputs": [],
   "source": [
    "def span(input_list,predicate):\n",
    "    prefix = []\n",
    "    rest = []\n",
    "    for item in input_list:\n",
    "        if predicate(item):\n",
    "            prefix.append(item)\n",
    "        else:\n",
    "            break\n",
    "    rest = [x for x in input_list if x not in prefix]\n",
    "    prefix = ''.join(prefix)\n",
    "    rest = ''.join(rest)\n",
    "    return (prefix,rest)"
   ]
  },
  {
   "cell_type": "code",
   "execution_count": 47,
   "metadata": {
    "collapsed": false
   },
   "outputs": [],
   "source": [
    "def artist_id_map(line):\n",
    "    (id, name) = span(line,predicate=not_tab)\n",
    "    if name in ['',' ',None]:\n",
    "        return None\n",
    "    else:\n",
    "        try:\n",
    "            return (int(id),name.strip())\n",
    "        except ValueError,e:\n",
    "            return None"
   ]
  },
  {
   "cell_type": "code",
   "execution_count": 3,
   "metadata": {
    "collapsed": true
   },
   "outputs": [],
   "source": [
    "def alias_map(line):\n",
    "    tokens = line.split('\\t')\n",
    "    if tokens == []:\n",
    "        return None\n",
    "    if tokens[0] in ['',' ',None]:\n",
    "        return None\n",
    "    else:\n",
    "        return (int(tokens[0]),int(tokens[1]))"
   ]
  },
  {
   "cell_type": "code",
   "execution_count": 4,
   "metadata": {
    "collapsed": true
   },
   "outputs": [],
   "source": [
    "def prepare_training_data(line):\n",
    "    userID, artistID, count = map(int,line.split(' '))\n",
    "    finalArtistID = bArtistAlias.value.get(artistID,artistID)\n",
    "    return Rating(userID, finalArtistID, count)"
   ]
  },
  {
   "cell_type": "markdown",
   "metadata": {},
   "source": [
    "# Prepare the Data"
   ]
  },
  {
   "cell_type": "code",
   "execution_count": 5,
   "metadata": {
    "collapsed": true
   },
   "outputs": [],
   "source": [
    "rawUserArtistData = sc.textFile(\"vagrant/profiledata_06-May-2005/user_artist_data.txt\")"
   ]
  },
  {
   "cell_type": "code",
   "execution_count": 6,
   "metadata": {
    "collapsed": true
   },
   "outputs": [],
   "source": [
    "rawArtistData = sc.textFile(\"vagrant/profiledata_06-May-2005/artist_data.txt\")"
   ]
  },
  {
   "cell_type": "code",
   "execution_count": 48,
   "metadata": {
    "collapsed": true
   },
   "outputs": [],
   "source": [
    "artistByID = rawArtistData.map(artist_id_map)"
   ]
  },
  {
   "cell_type": "code",
   "execution_count": 8,
   "metadata": {
    "collapsed": true
   },
   "outputs": [],
   "source": [
    "rawArtistAlias = sc.textFile(\"vagrant/profiledata_06-May-2005/artist_alias.txt\")"
   ]
  },
  {
   "cell_type": "code",
   "execution_count": 9,
   "metadata": {
    "collapsed": false
   },
   "outputs": [],
   "source": [
    "artistAlias = rawArtistAlias.map(alias_map) \\\n",
    "                            .filter(lambda x: x is not None and None not in x) \\\n",
    "                            .collectAsMap()"
   ]
  },
  {
   "cell_type": "markdown",
   "metadata": {},
   "source": [
    "# Building a First Model"
   ]
  },
  {
   "cell_type": "code",
   "execution_count": 10,
   "metadata": {
    "collapsed": true
   },
   "outputs": [],
   "source": [
    "bArtistAlias = sc.broadcast(artistAlias)"
   ]
  },
  {
   "cell_type": "code",
   "execution_count": 11,
   "metadata": {
    "collapsed": true
   },
   "outputs": [],
   "source": [
    "trainData = rawUserArtistData.map(prepare_training_data).cache()"
   ]
  },
  {
   "cell_type": "code",
   "execution_count": 12,
   "metadata": {
    "collapsed": false,
    "scrolled": true
   },
   "outputs": [],
   "source": [
    "model = ALS.trainImplicit(ratings=trainData, rank=10, iterations=5, lambda_=0.01, alpha=1.0)"
   ]
  },
  {
   "cell_type": "markdown",
   "metadata": {
    "collapsed": true
   },
   "source": [
    "# Spot Checking Recommendations"
   ]
  },
  {
   "cell_type": "code",
   "execution_count": 16,
   "metadata": {
    "collapsed": false
   },
   "outputs": [],
   "source": [
    "recommendations = model.call(\"recommendProducts\", 2093760, 10)"
   ]
  },
  {
   "cell_type": "code",
   "execution_count": 20,
   "metadata": {
    "collapsed": false
   },
   "outputs": [],
   "source": [
    "recommendedProductIDs = map(lambda x: x.product,recommendations)"
   ]
  },
  {
   "cell_type": "code",
   "execution_count": 56,
   "metadata": {
    "collapsed": false
   },
   "outputs": [],
   "source": [
    "recommendedProductNames = artistByID.filter(lambda x: x is not None) \\\n",
    "                                    .filter(lambda x: x[0] in recommendedProductIDs) \\\n",
    "                                    .collect()"
   ]
  },
  {
   "cell_type": "code",
   "execution_count": 57,
   "metadata": {
    "collapsed": false
   },
   "outputs": [
    {
     "data": {
      "text/plain": [
       "[(2814, u'50 Cent'),\n",
       " (4605, u'Snoop Dogg'),\n",
       " (829, u'Nas'),\n",
       " (1007614, u'Jay-Z'),\n",
       " (1037970, u'Kanye West'),\n",
       " (1811, u'Dr. Dre'),\n",
       " (1003249, u'Ludacris'),\n",
       " (1001819, u'2Pac'),\n",
       " (1300642, u'The Game'),\n",
       " (6914803, u'Jay-Z and Linkin Park')]"
      ]
     },
     "execution_count": 57,
     "metadata": {},
     "output_type": "execute_result"
    }
   ],
   "source": [
    "recommendedProductNames"
   ]
  },
  {
   "cell_type": "code",
   "execution_count": null,
   "metadata": {
    "collapsed": true
   },
   "outputs": [],
   "source": []
  }
 ],
 "metadata": {
  "kernelspec": {
   "display_name": "Python 2",
   "language": "python",
   "name": "python2"
  },
  "language_info": {
   "codemirror_mode": {
    "name": "ipython",
    "version": 2
   },
   "file_extension": ".py",
   "mimetype": "text/x-python",
   "name": "python",
   "nbconvert_exporter": "python",
   "pygments_lexer": "ipython2",
   "version": "2.7.6"
  }
 },
 "nbformat": 4,
 "nbformat_minor": 0
}
